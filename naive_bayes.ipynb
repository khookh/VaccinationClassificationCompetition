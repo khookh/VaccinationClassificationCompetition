{
 "cells": [
  {
   "cell_type": "code",
   "execution_count": 24,
   "id": "c5f13b99",
   "metadata": {},
   "outputs": [],
   "source": [
    "import pandas as pd\n",
    "import numpy as np\n",
    "from sklearn.naive_bayes import GaussianNB\n",
    "from sklearn.model_selection import train_test_split\n",
    "from sklearn import preprocessing\n",
    "\n",
    "PATH = './Data/'\n",
    "features_file = \"training_set_features.csv\"\n",
    "label_file = \"training_set_labels.csv\"\n",
    "\n",
    "feature_df = pd.read_csv(f\"{PATH}{features_file}\")\n",
    "label_df = pd.read_csv(f\"{PATH}{label_file}\")\n"
   ]
  },
  {
   "cell_type": "code",
   "execution_count": 25,
   "id": "654a0322",
   "metadata": {},
   "outputs": [],
   "source": [
    "# Fusionner les 2 df\n",
    "result_df = pd.merge(label_df,feature_df,on='respondent_id').drop(columns = ['seasonal_vaccine','respondent_id'])\n",
    "\n",
    "result_df = result_df.apply(preprocessing.LabelEncoder().fit_transform)\n",
    "\n",
    "# Test size = ratio test/eval \n",
    "train, test = train_test_split(result_df, test_size=0.2)\n",
    "train_true_label = train['h1n1_vaccine']"
   ]
  },
  {
   "cell_type": "code",
   "execution_count": 26,
   "id": "ff53ee4d",
   "metadata": {},
   "outputs": [
    {
     "data": {
      "text/plain": [
       "GaussianNB()"
      ]
     },
     "execution_count": 26,
     "metadata": {},
     "output_type": "execute_result"
    }
   ],
   "source": [
    "model = GaussianNB()\n",
    "model.fit(train.drop(columns='h1n1_vaccine'),train_true_label) "
   ]
  },
  {
   "cell_type": "code",
   "execution_count": 27,
   "id": "9b1f295b",
   "metadata": {},
   "outputs": [],
   "source": [
    "test_predicted_label = model.predict(test.drop(columns = 'h1n1_vaccine'))\n",
    "test_true_label = test['h1n1_vaccine']"
   ]
  },
  {
   "cell_type": "code",
   "execution_count": 35,
   "id": "24c23953",
   "metadata": {},
   "outputs": [
    {
     "name": "stdout",
     "output_type": "stream",
     "text": [
      "Accuracy: 0.7719955073006365\n",
      "[[3484  665]\n",
      " [ 553  640]]\n"
     ]
    }
   ],
   "source": [
    "from sklearn import metrics\n",
    "print(\"Accuracy:\",metrics.accuracy_score(test_true_label, test_predicted_label))\n",
    "print(metrics.confusion_matrix(test_true_label, test_predicted_label))"
   ]
  },
  {
   "cell_type": "code",
   "execution_count": 38,
   "id": "ad66124f",
   "metadata": {},
   "outputs": [],
   "source": [
    "features = train.drop(columns='h1n1_vaccine').columns"
   ]
  },
  {
   "cell_type": "code",
   "execution_count": 41,
   "id": "93ae2f4a",
   "metadata": {},
   "outputs": [
    {
     "name": "stdout",
     "output_type": "stream",
     "text": [
      "Feature ranking:\n",
      "1. health_insurance (0.015462)\n",
      "2. opinion_h1n1_vacc_effective (0.011793)\n",
      "3. doctor_recc_h1n1 (0.007376)\n",
      "4. behavioral_face_mask (0.005316)\n",
      "5. opinion_h1n1_risk (0.004455)\n",
      "6. behavioral_antiviral_meds (0.002658)\n",
      "7. health_worker (0.002583)\n",
      "8. race (0.001984)\n",
      "9. employment_occupation (0.001273)\n",
      "10. doctor_recc_seasonal (0.000449)\n",
      "11. household_children (0.000412)\n",
      "12. household_adults (0.000412)\n",
      "13. education (0.000262)\n",
      "14. child_under_6_months (0.000187)\n",
      "15. income_poverty (0.000150)\n",
      "16. census_msa (0.000150)\n",
      "17. behavioral_large_gatherings (0.000000)\n",
      "18. opinion_seas_sick_from_vacc (-0.000037)\n",
      "19. behavioral_touch_face (-0.000300)\n",
      "20. h1n1_knowledge (-0.000300)\n",
      "21. age_group (-0.000374)\n",
      "22. hhs_geo_region (-0.000374)\n",
      "23. behavioral_outside_home (-0.000749)\n",
      "24. sex (-0.001048)\n",
      "25. marital_status (-0.001086)\n",
      "26. rent_or_own (-0.001198)\n",
      "27. employment_industry (-0.001348)\n",
      "28. employment_status (-0.001535)\n",
      "29. chronic_med_condition (-0.001685)\n",
      "30. opinion_seas_vacc_effective (-0.001984)\n",
      "31. behavioral_avoidance (-0.002621)\n",
      "32. opinion_h1n1_sick_from_vacc (-0.002733)\n",
      "33. opinion_seas_risk (-0.005017)\n",
      "34. behavioral_wash_hands (-0.006177)\n",
      "35. h1n1_concern (-0.006440)\n"
     ]
    }
   ],
   "source": [
    "# This is why we did it in first place\n",
    "# Discrimination\n",
    "\n",
    "from sklearn.inspection import permutation_importance\n",
    "imps = permutation_importance(model, test.drop(columns = 'h1n1_vaccine'), test_true_label)\n",
    "importances = imps.importances_mean\n",
    "std = imps.importances_std\n",
    "indices = np.argsort(importances)[::-1]\n",
    "\n",
    "print(\"Feature ranking:\")\n",
    "for f in range(test.drop(columns = 'h1n1_vaccine').shape[1]):\n",
    "    print(\"%d. %s (%f)\" % (f + 1, features[indices[f]], importances[indices[f]]))"
   ]
  },
  {
   "cell_type": "code",
   "execution_count": null,
   "id": "83ab7773",
   "metadata": {},
   "outputs": [],
   "source": []
  }
 ],
 "metadata": {
  "kernelspec": {
   "display_name": "Python 3 (ipykernel)",
   "language": "python",
   "name": "python3"
  },
  "language_info": {
   "codemirror_mode": {
    "name": "ipython",
    "version": 3
   },
   "file_extension": ".py",
   "mimetype": "text/x-python",
   "name": "python",
   "nbconvert_exporter": "python",
   "pygments_lexer": "ipython3",
   "version": "3.8.10"
  }
 },
 "nbformat": 4,
 "nbformat_minor": 5
}
