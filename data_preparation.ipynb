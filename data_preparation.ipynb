{
 "cells": [
  {
   "cell_type": "markdown",
   "metadata": {},
   "source": [
    "# Data Preparation\n",
    "### Goal : obtain a dataframe containing only columns with values ranging from 0 to 1\n",
    "### Steps :\n",
    "#### 1) Is there NaN values in the column ? If yes we replace them by what ? Or do we delete the entries ?\n",
    "#### 2) What's the data type ? Numerical, Boolean or String ? \n",
    "##### If it's string, is it categorical ? If yes replace the values by numerical ones\n",
    "##### If not categorical -> one hot encode or drop\n",
    "#### 3) Then change the values to be ranging between 0 and 1\n"
   ]
  },
  {
   "cell_type": "code",
   "execution_count": 1,
   "metadata": {
    "pycharm": {
     "is_executing": false
    }
   },
   "outputs": [],
   "source": [
    "import pandas as pd\n",
    "import numpy as np\n",
    "import py_scripts.tools as tools\n",
    "\n",
    "import warnings\n",
    "warnings.filterwarnings(\"ignore\")\n",
    "\n",
    "PATH = '../Data/'\n",
    "features_file = \"training_set_features.csv\"\n",
    "label_file = \"training_set_labels.csv\"\n",
    "\n",
    "feature_df = pd.read_csv(f\"{PATH}{features_file}\")\n",
    "label_df = pd.read_csv(f\"{PATH}{label_file}\")"
   ]
  },
  {
   "cell_type": "code",
   "execution_count": 2,
   "metadata": {},
   "outputs": [],
   "source": [
    "# merge the two dataframes\n",
    "result_df = pd.merge(label_df,feature_df,on='respondent_id')"
   ]
  },
  {
   "cell_type": "raw",
   "metadata": {},
   "source": [
    "Je vais traiter les features suivantes :\n",
    "\n",
    "h1n1_concern                   float64\n",
    "h1n1_knowledge                 float64\n",
    "behavioral_antiviral_meds      float64\n",
    "behavioral_avoidance           float64\n",
    "\n",
    "health_worker                  float64\n",
    "health_insurance               float64\n",
    "opinion_h1n1_vacc_effective    float64\n",
    "opinion_h1n1_risk              float64\n",
    "opinion_h1n1_sick_from_vacc    float64\n",
    "opinion_seas_vacc_effective    float64\n",
    "\n",
    "age_group                       object\n",
    "education                       object\n",
    "race                            object\n",
    "sex                             object\n",
    "\n",
    "employment_status               object\n",
    "hhs_geo_region                  object\n",
    "census_msa                      object\n",
    "household_adults               float64\n",
    "household_children             float64\n",
    "employment_industry             object\n",
    "employment_occupation           object\n"
   ]
  },
  {
   "cell_type": "markdown",
   "metadata": {},
   "source": [
    "## h1n1_concern"
   ]
  },
  {
   "cell_type": "raw",
   "metadata": {},
   "source": [
    "Level of concern about the H1N1 flu.\n",
    "0 = Not at all concerned; 1 = Not very concerned; 2 = Somewhat concerned; 3 = Very concerned."
   ]
  },
  {
   "cell_type": "code",
   "execution_count": 3,
   "metadata": {},
   "outputs": [
    {
     "name": "stdout",
     "output_type": "stream",
     "text": [
      "92\n",
      "0\n"
     ]
    }
   ],
   "source": [
    "    # ILLUSTRATION\n",
    "# rows where the column has a NaN value\n",
    "h1n1_nan_rows = result_df.h1n1_concern.isna()\n",
    "# number of NaN in the column\n",
    "print(h1n1_nan_rows.sum())\n",
    "\n",
    "    # Replacement of the NaN values\n",
    "result_df = tools.mean_feature_clustered(result_df.copy(), 'h1n1_concern', ['age_group','race','sex','hhs_geo_region','census_msa'], True)\n",
    "# See, there's no more NaN values\n",
    "print(result_df.h1n1_concern.isna().sum())"
   ]
  },
  {
   "cell_type": "code",
   "execution_count": 4,
   "metadata": {},
   "outputs": [],
   "source": [
    "    # Standardization\n",
    "result_df.h1n1_concern = result_df.h1n1_concern / result_df.h1n1_concern.max()\n",
    "# now the values of h1n1_concern are between 0 and 1"
   ]
  },
  {
   "cell_type": "markdown",
   "metadata": {},
   "source": [
    "## h1n1_knowledge"
   ]
  },
  {
   "cell_type": "raw",
   "metadata": {},
   "source": [
    "Level of knowledge about H1N1 flu.\n",
    "0 = No knowledge; 1 = A little knowledge; 2 = A lot of knowledge."
   ]
  },
  {
   "cell_type": "code",
   "execution_count": 5,
   "metadata": {},
   "outputs": [],
   "source": [
    "result_df = tools.mean_feature_clustered(result_df.copy(), 'h1n1_knowledge', ['age_group','race','sex','hhs_geo_region','census_msa'], True)\n",
    "result_df.h1n1_knowledge = result_df.h1n1_knowledge / result_df.h1n1_knowledge.max()"
   ]
  },
  {
   "cell_type": "markdown",
   "metadata": {},
   "source": [
    "## behavioral_antiviral_meds "
   ]
  },
  {
   "cell_type": "raw",
   "metadata": {},
   "source": [
    "Has taken antiviral medications. (binary)"
   ]
  },
  {
   "cell_type": "code",
   "execution_count": 6,
   "metadata": {},
   "outputs": [],
   "source": [
    "result_df = tools.mean_feature_clustered(result_df.copy(), 'behavioral_antiviral_meds', ['age_group','race','sex','hhs_geo_region','census_msa'], True)\n",
    "# no standardization as the variable is already contained between 0 and 1 (binary)"
   ]
  },
  {
   "cell_type": "markdown",
   "metadata": {},
   "source": [
    "## behavioral_avoidance"
   ]
  },
  {
   "cell_type": "raw",
   "metadata": {},
   "source": [
    "Has avoided close contact with others with flu-like symptoms. (binary)"
   ]
  },
  {
   "cell_type": "code",
   "execution_count": 7,
   "metadata": {},
   "outputs": [],
   "source": [
    "result_df = tools.mean_feature_clustered(result_df.copy(), 'behavioral_avoidance', ['age_group','race','sex','hhs_geo_region','census_msa'], True)\n",
    "# no standardization as the variable is already contained between 0 and 1 (binary)"
   ]
  },
  {
   "cell_type": "markdown",
   "metadata": {},
   "source": [
    "## health_worker        "
   ]
  },
  {
   "cell_type": "raw",
   "metadata": {},
   "source": [
    "Is a healthcare worker. (binary)"
   ]
  },
  {
   "cell_type": "code",
   "execution_count": 8,
   "metadata": {},
   "outputs": [],
   "source": [
    "result_df = tools.mean_feature_clustered(result_df.copy(), 'health_worker', ['age_group','race','sex','hhs_geo_region','census_msa'], True)\n",
    "# no standardization as the variable is already contained between 0 and 1 (binary)"
   ]
  },
  {
   "cell_type": "markdown",
   "metadata": {},
   "source": [
    "## health_insurance"
   ]
  },
  {
   "cell_type": "raw",
   "metadata": {},
   "source": [
    "Has health insurance. (binary)"
   ]
  },
  {
   "cell_type": "code",
   "execution_count": 9,
   "metadata": {},
   "outputs": [],
   "source": [
    "result_df = tools.mean_feature_clustered(result_df.copy(), 'health_insurance', ['age_group','race','sex','hhs_geo_region','census_msa'], True)\n",
    "# no standardization as the variable is already contained between 0 and 1 (binary)"
   ]
  },
  {
   "cell_type": "markdown",
   "metadata": {},
   "source": [
    "## opinion_h1n1_vacc_effective"
   ]
  },
  {
   "cell_type": "raw",
   "metadata": {},
   "source": [
    "Respondent's opinion about H1N1 vaccine effectiveness.\n",
    "1 = Not at all effective; 2 = Not very effective; 3 = Don't know; 4 = Somewhat effective; 5 = Very effective."
   ]
  },
  {
   "cell_type": "code",
   "execution_count": 10,
   "metadata": {},
   "outputs": [],
   "source": [
    "result_df = tools.mean_feature_clustered(result_df.copy(), 'opinion_h1n1_vacc_effective', ['age_group','race','sex','hhs_geo_region','census_msa'], True)\n",
    "result_df.opinion_h1n1_vacc_effective = result_df.opinion_h1n1_vacc_effective / result_df.opinion_h1n1_vacc_effective.max()"
   ]
  },
  {
   "cell_type": "markdown",
   "metadata": {},
   "source": [
    "## opinion_h1n1_risk "
   ]
  },
  {
   "cell_type": "raw",
   "metadata": {},
   "source": [
    " Respondent's opinion about risk of getting sick with H1N1 flu without vaccine.\n",
    "1 = Very Low; 2 = Somewhat low; 3 = Don't know; 4 = Somewhat high; 5 = Very high."
   ]
  },
  {
   "cell_type": "code",
   "execution_count": 11,
   "metadata": {},
   "outputs": [],
   "source": [
    "result_df = tools.mean_feature_clustered(result_df.copy(), 'opinion_h1n1_risk', ['age_group','race','sex','hhs_geo_region','census_msa'], True)\n",
    "result_df.opinion_h1n1_risk  = result_df.opinion_h1n1_risk  / result_df.opinion_h1n1_risk.max()"
   ]
  },
  {
   "cell_type": "markdown",
   "metadata": {},
   "source": [
    "## opinion_h1n1_sick_from_vacc"
   ]
  },
  {
   "cell_type": "raw",
   "metadata": {},
   "source": [
    "Respondent's worry of getting sick from taking H1N1 vaccine.\n",
    "1 = Not at all worried; 2 = Not very worried; 3 = Don't know; 4 = Somewhat worried; 5 = Very worried."
   ]
  },
  {
   "cell_type": "code",
   "execution_count": 12,
   "metadata": {},
   "outputs": [],
   "source": [
    "result_df = tools.mean_feature_clustered(result_df.copy(), 'opinion_h1n1_sick_from_vacc', ['age_group','race','sex','hhs_geo_region','census_msa'], True)\n",
    "result_df.opinion_h1n1_sick_from_vacc  = result_df.opinion_h1n1_sick_from_vacc  / result_df.opinion_h1n1_sick_from_vacc.max()"
   ]
  },
  {
   "cell_type": "markdown",
   "metadata": {},
   "source": [
    "## opinion_seas_vacc_effective"
   ]
  },
  {
   "cell_type": "raw",
   "metadata": {},
   "source": [
    "Respondent's opinion about seasonal flu vaccine effectiveness.\n",
    "1 = Not at all effective; 2 = Not very effective; 3 = Don't know; 4 = Somewhat effective; 5 = Very effective."
   ]
  },
  {
   "cell_type": "code",
   "execution_count": 13,
   "metadata": {},
   "outputs": [],
   "source": [
    "result_df = tools.mean_feature_clustered(result_df.copy(), 'opinion_seas_vacc_effective', ['age_group','race','sex','hhs_geo_region','census_msa'], True)\n",
    "result_df.opinion_seas_vacc_effective  = result_df.opinion_seas_vacc_effective  / result_df.opinion_seas_vacc_effective.max()"
   ]
  },
  {
   "cell_type": "raw",
   "metadata": {},
   "source": [
    "age_group                       object\n",
    "education                       object\n",
    "race                            object\n",
    "sex                             object\n",
    "\n",
    "employment_status               object\n",
    "hhs_geo_region                  object\n",
    "census_msa                      object\n",
    "household_adults               float64\n",
    "household_children             float64\n",
    "employment_industry             object\n",
    "employment_occupation           object"
   ]
  },
  {
   "cell_type": "markdown",
   "metadata": {},
   "source": [
    "## Education"
   ]
  },
  {
   "cell_type": "raw",
   "metadata": {},
   "source": [
    "Self-reported education level."
   ]
  },
  {
   "cell_type": "code",
   "execution_count": 15,
   "metadata": {},
   "outputs": [
    {
     "data": {
      "text/plain": [
       "College Graduate    10097\n",
       "Some College         7043\n",
       "12 Years             5797\n",
       "< 12 Years           2363\n",
       "Name: education, dtype: int64"
      ]
     },
     "execution_count": 15,
     "metadata": {},
     "output_type": "execute_result"
    }
   ],
   "source": [
    "result_df.education.value_counts()"
   ]
  },
  {
   "cell_type": "code",
   "execution_count": 16,
   "metadata": {},
   "outputs": [],
   "source": [
    "# remap the education level with integers\n",
    "keys_list = result_df.education.value_counts().index\n",
    "values_list = [3,2,1,0]\n",
    "zip_iterator = zip(keys_list, values_list)\n",
    "dictionnary = dict(zip_iterator)\n",
    "result_df = result_df.replace({\"education\": dictionnary})"
   ]
  },
  {
   "cell_type": "code",
   "execution_count": 17,
   "metadata": {},
   "outputs": [
    {
     "data": {
      "text/plain": [
       "3.0    10097\n",
       "2.0     7043\n",
       "1.0     5797\n",
       "0.0     2363\n",
       "Name: education, dtype: int64"
      ]
     },
     "execution_count": 17,
     "metadata": {},
     "output_type": "execute_result"
    }
   ],
   "source": [
    "result_df.education.value_counts()"
   ]
  },
  {
   "cell_type": "code",
   "execution_count": 18,
   "metadata": {},
   "outputs": [],
   "source": [
    "# remove NaN & Standardize\n",
    "result_df = tools.mean_feature_clustered(result_df.copy(), 'education', ['age_group','race','sex','hhs_geo_region','census_msa'], True)\n",
    "result_df.education  = result_df.education  / result_df.education.max()"
   ]
  },
  {
   "cell_type": "markdown",
   "metadata": {},
   "source": [
    "## household_adults\n",
    "## household_children"
   ]
  },
  {
   "cell_type": "code",
   "execution_count": 20,
   "metadata": {},
   "outputs": [],
   "source": [
    "result_df = tools.mean_feature_clustered(result_df.copy(), 'household_adults', ['age_group','race','sex','hhs_geo_region','census_msa'], True)\n",
    "result_df.household_adults  = result_df.household_adults  / result_df.household_adults.max()\n",
    "\n",
    "result_df = tools.mean_feature_clustered(result_df.copy(), 'household_children', ['age_group','race','sex','hhs_geo_region','census_msa'], True)\n",
    "result_df.household_children  = result_df.household_children  / result_df.household_children.max()"
   ]
  },
  {
   "cell_type": "markdown",
   "metadata": {},
   "source": [
    "## employment_industry  \n",
    "## employment_occupation  "
   ]
  },
  {
   "cell_type": "code",
   "execution_count": 36,
   "metadata": {},
   "outputs": [],
   "source": [
    "# no NaN replacement, direct one_hot_encode\n",
    "\n",
    "result_df =  pd.concat([result_df,pd.get_dummies(result_df.employment_industry, prefix='ei_')],axis=1)\n",
    "result_df.drop(['employment_industry'],axis=1, inplace=True)"
   ]
  },
  {
   "cell_type": "code",
   "execution_count": 37,
   "metadata": {},
   "outputs": [],
   "source": [
    "result_df =  pd.concat([result_df,pd.get_dummies(result_df.employment_occupation, prefix='eo_')],axis=1)\n",
    "result_df.drop(['employment_occupation'],axis=1, inplace=True)"
   ]
  },
  {
   "cell_type": "code",
   "execution_count": 38,
   "metadata": {},
   "outputs": [
    {
     "data": {
      "text/html": [
       "<div>\n",
       "<style scoped>\n",
       "    .dataframe tbody tr th:only-of-type {\n",
       "        vertical-align: middle;\n",
       "    }\n",
       "\n",
       "    .dataframe tbody tr th {\n",
       "        vertical-align: top;\n",
       "    }\n",
       "\n",
       "    .dataframe thead th {\n",
       "        text-align: right;\n",
       "    }\n",
       "</style>\n",
       "<table border=\"1\" class=\"dataframe\">\n",
       "  <thead>\n",
       "    <tr style=\"text-align: right;\">\n",
       "      <th></th>\n",
       "      <th>respondent_id</th>\n",
       "      <th>h1n1_vaccine</th>\n",
       "      <th>seasonal_vaccine</th>\n",
       "      <th>h1n1_concern</th>\n",
       "      <th>h1n1_knowledge</th>\n",
       "      <th>behavioral_antiviral_meds</th>\n",
       "      <th>behavioral_avoidance</th>\n",
       "      <th>behavioral_face_mask</th>\n",
       "      <th>behavioral_wash_hands</th>\n",
       "      <th>behavioral_large_gatherings</th>\n",
       "      <th>...</th>\n",
       "      <th>eo__qxajmpny</th>\n",
       "      <th>eo__rcertsgn</th>\n",
       "      <th>eo__tfqavkke</th>\n",
       "      <th>eo__ukymxvdu</th>\n",
       "      <th>eo__uqqtjvyb</th>\n",
       "      <th>eo__vlluhbov</th>\n",
       "      <th>eo__xgwztkwe</th>\n",
       "      <th>eo__xqwwgdyp</th>\n",
       "      <th>eo__xtkaffoo</th>\n",
       "      <th>eo__xzmlyyjv</th>\n",
       "    </tr>\n",
       "  </thead>\n",
       "  <tbody>\n",
       "    <tr>\n",
       "      <th>0</th>\n",
       "      <td>0</td>\n",
       "      <td>0</td>\n",
       "      <td>0</td>\n",
       "      <td>0.333333</td>\n",
       "      <td>0.0</td>\n",
       "      <td>0.0</td>\n",
       "      <td>0.0</td>\n",
       "      <td>0.0</td>\n",
       "      <td>0.0</td>\n",
       "      <td>0.0</td>\n",
       "      <td>...</td>\n",
       "      <td>0</td>\n",
       "      <td>0</td>\n",
       "      <td>0</td>\n",
       "      <td>0</td>\n",
       "      <td>0</td>\n",
       "      <td>0</td>\n",
       "      <td>0</td>\n",
       "      <td>0</td>\n",
       "      <td>0</td>\n",
       "      <td>0</td>\n",
       "    </tr>\n",
       "    <tr>\n",
       "      <th>1</th>\n",
       "      <td>1</td>\n",
       "      <td>0</td>\n",
       "      <td>1</td>\n",
       "      <td>1.000000</td>\n",
       "      <td>1.0</td>\n",
       "      <td>0.0</td>\n",
       "      <td>1.0</td>\n",
       "      <td>0.0</td>\n",
       "      <td>1.0</td>\n",
       "      <td>0.0</td>\n",
       "      <td>...</td>\n",
       "      <td>0</td>\n",
       "      <td>0</td>\n",
       "      <td>0</td>\n",
       "      <td>0</td>\n",
       "      <td>0</td>\n",
       "      <td>0</td>\n",
       "      <td>1</td>\n",
       "      <td>0</td>\n",
       "      <td>0</td>\n",
       "      <td>0</td>\n",
       "    </tr>\n",
       "    <tr>\n",
       "      <th>2</th>\n",
       "      <td>2</td>\n",
       "      <td>0</td>\n",
       "      <td>0</td>\n",
       "      <td>0.333333</td>\n",
       "      <td>0.5</td>\n",
       "      <td>0.0</td>\n",
       "      <td>1.0</td>\n",
       "      <td>0.0</td>\n",
       "      <td>0.0</td>\n",
       "      <td>0.0</td>\n",
       "      <td>...</td>\n",
       "      <td>0</td>\n",
       "      <td>0</td>\n",
       "      <td>0</td>\n",
       "      <td>0</td>\n",
       "      <td>0</td>\n",
       "      <td>0</td>\n",
       "      <td>0</td>\n",
       "      <td>0</td>\n",
       "      <td>1</td>\n",
       "      <td>0</td>\n",
       "    </tr>\n",
       "    <tr>\n",
       "      <th>3</th>\n",
       "      <td>3</td>\n",
       "      <td>0</td>\n",
       "      <td>1</td>\n",
       "      <td>0.333333</td>\n",
       "      <td>0.5</td>\n",
       "      <td>0.0</td>\n",
       "      <td>1.0</td>\n",
       "      <td>0.0</td>\n",
       "      <td>1.0</td>\n",
       "      <td>1.0</td>\n",
       "      <td>...</td>\n",
       "      <td>0</td>\n",
       "      <td>0</td>\n",
       "      <td>0</td>\n",
       "      <td>0</td>\n",
       "      <td>0</td>\n",
       "      <td>0</td>\n",
       "      <td>0</td>\n",
       "      <td>0</td>\n",
       "      <td>0</td>\n",
       "      <td>0</td>\n",
       "    </tr>\n",
       "    <tr>\n",
       "      <th>4</th>\n",
       "      <td>4</td>\n",
       "      <td>0</td>\n",
       "      <td>0</td>\n",
       "      <td>0.666667</td>\n",
       "      <td>0.5</td>\n",
       "      <td>0.0</td>\n",
       "      <td>1.0</td>\n",
       "      <td>0.0</td>\n",
       "      <td>1.0</td>\n",
       "      <td>1.0</td>\n",
       "      <td>...</td>\n",
       "      <td>0</td>\n",
       "      <td>0</td>\n",
       "      <td>0</td>\n",
       "      <td>0</td>\n",
       "      <td>0</td>\n",
       "      <td>0</td>\n",
       "      <td>0</td>\n",
       "      <td>0</td>\n",
       "      <td>0</td>\n",
       "      <td>0</td>\n",
       "    </tr>\n",
       "    <tr>\n",
       "      <th>...</th>\n",
       "      <td>...</td>\n",
       "      <td>...</td>\n",
       "      <td>...</td>\n",
       "      <td>...</td>\n",
       "      <td>...</td>\n",
       "      <td>...</td>\n",
       "      <td>...</td>\n",
       "      <td>...</td>\n",
       "      <td>...</td>\n",
       "      <td>...</td>\n",
       "      <td>...</td>\n",
       "      <td>...</td>\n",
       "      <td>...</td>\n",
       "      <td>...</td>\n",
       "      <td>...</td>\n",
       "      <td>...</td>\n",
       "      <td>...</td>\n",
       "      <td>...</td>\n",
       "      <td>...</td>\n",
       "      <td>...</td>\n",
       "      <td>...</td>\n",
       "    </tr>\n",
       "    <tr>\n",
       "      <th>26702</th>\n",
       "      <td>26702</td>\n",
       "      <td>0</td>\n",
       "      <td>0</td>\n",
       "      <td>0.666667</td>\n",
       "      <td>0.0</td>\n",
       "      <td>0.0</td>\n",
       "      <td>1.0</td>\n",
       "      <td>0.0</td>\n",
       "      <td>0.0</td>\n",
       "      <td>0.0</td>\n",
       "      <td>...</td>\n",
       "      <td>0</td>\n",
       "      <td>0</td>\n",
       "      <td>0</td>\n",
       "      <td>0</td>\n",
       "      <td>0</td>\n",
       "      <td>0</td>\n",
       "      <td>0</td>\n",
       "      <td>0</td>\n",
       "      <td>0</td>\n",
       "      <td>0</td>\n",
       "    </tr>\n",
       "    <tr>\n",
       "      <th>26703</th>\n",
       "      <td>26703</td>\n",
       "      <td>0</td>\n",
       "      <td>0</td>\n",
       "      <td>0.333333</td>\n",
       "      <td>1.0</td>\n",
       "      <td>0.0</td>\n",
       "      <td>1.0</td>\n",
       "      <td>0.0</td>\n",
       "      <td>1.0</td>\n",
       "      <td>0.0</td>\n",
       "      <td>...</td>\n",
       "      <td>0</td>\n",
       "      <td>0</td>\n",
       "      <td>0</td>\n",
       "      <td>0</td>\n",
       "      <td>0</td>\n",
       "      <td>0</td>\n",
       "      <td>0</td>\n",
       "      <td>0</td>\n",
       "      <td>0</td>\n",
       "      <td>0</td>\n",
       "    </tr>\n",
       "    <tr>\n",
       "      <th>26704</th>\n",
       "      <td>26704</td>\n",
       "      <td>0</td>\n",
       "      <td>1</td>\n",
       "      <td>0.666667</td>\n",
       "      <td>1.0</td>\n",
       "      <td>0.0</td>\n",
       "      <td>1.0</td>\n",
       "      <td>1.0</td>\n",
       "      <td>1.0</td>\n",
       "      <td>1.0</td>\n",
       "      <td>...</td>\n",
       "      <td>0</td>\n",
       "      <td>0</td>\n",
       "      <td>0</td>\n",
       "      <td>0</td>\n",
       "      <td>0</td>\n",
       "      <td>0</td>\n",
       "      <td>0</td>\n",
       "      <td>0</td>\n",
       "      <td>0</td>\n",
       "      <td>0</td>\n",
       "    </tr>\n",
       "    <tr>\n",
       "      <th>26705</th>\n",
       "      <td>26705</td>\n",
       "      <td>0</td>\n",
       "      <td>0</td>\n",
       "      <td>0.333333</td>\n",
       "      <td>0.5</td>\n",
       "      <td>0.0</td>\n",
       "      <td>0.0</td>\n",
       "      <td>0.0</td>\n",
       "      <td>0.0</td>\n",
       "      <td>0.0</td>\n",
       "      <td>...</td>\n",
       "      <td>0</td>\n",
       "      <td>0</td>\n",
       "      <td>0</td>\n",
       "      <td>0</td>\n",
       "      <td>0</td>\n",
       "      <td>0</td>\n",
       "      <td>0</td>\n",
       "      <td>0</td>\n",
       "      <td>0</td>\n",
       "      <td>0</td>\n",
       "    </tr>\n",
       "    <tr>\n",
       "      <th>26706</th>\n",
       "      <td>26706</td>\n",
       "      <td>0</td>\n",
       "      <td>0</td>\n",
       "      <td>0.000000</td>\n",
       "      <td>0.0</td>\n",
       "      <td>0.0</td>\n",
       "      <td>1.0</td>\n",
       "      <td>0.0</td>\n",
       "      <td>0.0</td>\n",
       "      <td>0.0</td>\n",
       "      <td>...</td>\n",
       "      <td>0</td>\n",
       "      <td>0</td>\n",
       "      <td>0</td>\n",
       "      <td>0</td>\n",
       "      <td>0</td>\n",
       "      <td>0</td>\n",
       "      <td>0</td>\n",
       "      <td>0</td>\n",
       "      <td>0</td>\n",
       "      <td>0</td>\n",
       "    </tr>\n",
       "  </tbody>\n",
       "</table>\n",
       "<p>26707 rows × 101 columns</p>\n",
       "</div>"
      ],
      "text/plain": [
       "       respondent_id  h1n1_vaccine  seasonal_vaccine  h1n1_concern  \\\n",
       "0                  0             0                 0      0.333333   \n",
       "1                  1             0                 1      1.000000   \n",
       "2                  2             0                 0      0.333333   \n",
       "3                  3             0                 1      0.333333   \n",
       "4                  4             0                 0      0.666667   \n",
       "...              ...           ...               ...           ...   \n",
       "26702          26702             0                 0      0.666667   \n",
       "26703          26703             0                 0      0.333333   \n",
       "26704          26704             0                 1      0.666667   \n",
       "26705          26705             0                 0      0.333333   \n",
       "26706          26706             0                 0      0.000000   \n",
       "\n",
       "       h1n1_knowledge  behavioral_antiviral_meds  behavioral_avoidance  \\\n",
       "0                 0.0                        0.0                   0.0   \n",
       "1                 1.0                        0.0                   1.0   \n",
       "2                 0.5                        0.0                   1.0   \n",
       "3                 0.5                        0.0                   1.0   \n",
       "4                 0.5                        0.0                   1.0   \n",
       "...               ...                        ...                   ...   \n",
       "26702             0.0                        0.0                   1.0   \n",
       "26703             1.0                        0.0                   1.0   \n",
       "26704             1.0                        0.0                   1.0   \n",
       "26705             0.5                        0.0                   0.0   \n",
       "26706             0.0                        0.0                   1.0   \n",
       "\n",
       "       behavioral_face_mask  behavioral_wash_hands  \\\n",
       "0                       0.0                    0.0   \n",
       "1                       0.0                    1.0   \n",
       "2                       0.0                    0.0   \n",
       "3                       0.0                    1.0   \n",
       "4                       0.0                    1.0   \n",
       "...                     ...                    ...   \n",
       "26702                   0.0                    0.0   \n",
       "26703                   0.0                    1.0   \n",
       "26704                   1.0                    1.0   \n",
       "26705                   0.0                    0.0   \n",
       "26706                   0.0                    0.0   \n",
       "\n",
       "       behavioral_large_gatherings  ...  eo__qxajmpny  eo__rcertsgn  \\\n",
       "0                              0.0  ...             0             0   \n",
       "1                              0.0  ...             0             0   \n",
       "2                              0.0  ...             0             0   \n",
       "3                              1.0  ...             0             0   \n",
       "4                              1.0  ...             0             0   \n",
       "...                            ...  ...           ...           ...   \n",
       "26702                          0.0  ...             0             0   \n",
       "26703                          0.0  ...             0             0   \n",
       "26704                          1.0  ...             0             0   \n",
       "26705                          0.0  ...             0             0   \n",
       "26706                          0.0  ...             0             0   \n",
       "\n",
       "       eo__tfqavkke  eo__ukymxvdu  eo__uqqtjvyb  eo__vlluhbov  eo__xgwztkwe  \\\n",
       "0                 0             0             0             0             0   \n",
       "1                 0             0             0             0             1   \n",
       "2                 0             0             0             0             0   \n",
       "3                 0             0             0             0             0   \n",
       "4                 0             0             0             0             0   \n",
       "...             ...           ...           ...           ...           ...   \n",
       "26702             0             0             0             0             0   \n",
       "26703             0             0             0             0             0   \n",
       "26704             0             0             0             0             0   \n",
       "26705             0             0             0             0             0   \n",
       "26706             0             0             0             0             0   \n",
       "\n",
       "       eo__xqwwgdyp  eo__xtkaffoo  eo__xzmlyyjv  \n",
       "0                 0             0             0  \n",
       "1                 0             0             0  \n",
       "2                 0             1             0  \n",
       "3                 0             0             0  \n",
       "4                 0             0             0  \n",
       "...             ...           ...           ...  \n",
       "26702             0             0             0  \n",
       "26703             0             0             0  \n",
       "26704             0             0             0  \n",
       "26705             0             0             0  \n",
       "26706             0             0             0  \n",
       "\n",
       "[26707 rows x 101 columns]"
      ]
     },
     "execution_count": 38,
     "metadata": {},
     "output_type": "execute_result"
    }
   ],
   "source": [
    "result_df"
   ]
  },
  {
   "cell_type": "code",
   "execution_count": null,
   "metadata": {},
   "outputs": [],
   "source": []
  }
 ],
 "metadata": {
  "kernelspec": {
   "display_name": "Python 3 (ipykernel)",
   "language": "python",
   "name": "python3"
  },
  "language_info": {
   "codemirror_mode": {
    "name": "ipython",
    "version": 3
   },
   "file_extension": ".py",
   "mimetype": "text/x-python",
   "name": "python",
   "nbconvert_exporter": "python",
   "pygments_lexer": "ipython3",
   "version": "3.8.10"
  }
 },
 "nbformat": 4,
 "nbformat_minor": 1
}
