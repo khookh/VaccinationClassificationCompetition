{
 "cells": [
  {
   "cell_type": "markdown",
   "metadata": {},
   "source": [
    "# Data Preparation\n",
    "### Goal : obtain a dataframe containing only columns with values ranging from 0 to 1\n",
    "### Steps :\n",
    "#### 1) Is there NaN values in the column ? If yes we replace them by what ? Or do we delete the entries ?\n",
    "#### 2) What's the data type ? Numerical, Boolean or String ? \n",
    "##### If it's string, is it categorical ? If yes replace the values by numerical ones\n",
    "##### If not categorical -> one hot encode or drop\n",
    "#### 3) Then change the values to be ranging between 0 and 1\n"
   ]
  },
  {
   "cell_type": "code",
   "execution_count": 12,
   "metadata": {
    "pycharm": {
     "is_executing": false
    }
   },
   "outputs": [],
   "source": [
    "import pandas as pd\n",
    "import numpy as np\n",
    "import py_scripts.tools as tools\n",
    "\n",
    "import warnings\n",
    "warnings.filterwarnings(\"ignore\")\n",
    "\n",
    "PATH = '../Data/'\n",
    "features_file = \"training_set_features.csv\"\n",
    "label_file = \"training_set_labels.csv\"\n",
    "\n",
    "feature_df = pd.read_csv(f\"{PATH}{features_file}\")\n",
    "label_df = pd.read_csv(f\"{PATH}{label_file}\")"
   ]
  },
  {
   "cell_type": "code",
   "execution_count": 13,
   "metadata": {},
   "outputs": [],
   "source": [
    "# merge the two dataframes\n",
    "result_df = pd.merge(label_df,feature_df,on='respondent_id')"
   ]
  },
  {
   "cell_type": "raw",
   "metadata": {},
   "source": [
    "Je vais traiter les features suivantes :\n",
    "\n",
    "h1n1_concern                   float64\n",
    "h1n1_knowledge                 float64\n",
    "behavioral_antiviral_meds      float64\n",
    "behavioral_avoidance           float64\n",
    "\n",
    "health_worker                  float64\n",
    "health_insurance               float64\n",
    "opinion_h1n1_vacc_effective    float64\n",
    "opinion_h1n1_risk              float64\n",
    "opinion_h1n1_sick_from_vacc    float64\n",
    "opinion_seas_vacc_effective    float64\n",
    "\n",
    "age_group                       object\n",
    "education                       object\n",
    "race                            object\n",
    "sex                             object\n",
    "\n",
    "employment_status               object\n",
    "hhs_geo_region                  object\n",
    "census_msa                      object\n",
    "household_adults               float64\n",
    "household_children             float64\n",
    "employment_industry             object\n",
    "employment_occupation           object\n"
   ]
  },
  {
   "cell_type": "markdown",
   "metadata": {},
   "source": [
    "## h1n1_concern"
   ]
  },
  {
   "cell_type": "raw",
   "metadata": {},
   "source": [
    "Level of concern about the H1N1 flu.\n",
    "0 = Not at all concerned; 1 = Not very concerned; 2 = Somewhat concerned; 3 = Very concerned."
   ]
  },
  {
   "cell_type": "code",
   "execution_count": 14,
   "metadata": {},
   "outputs": [
    {
     "name": "stdout",
     "output_type": "stream",
     "text": [
      "92\n",
      "0\n"
     ]
    }
   ],
   "source": [
    "    # ILLUSTRATION\n",
    "# rows where the column has a NaN value\n",
    "h1n1_nan_rows = result_df.h1n1_concern.isna()\n",
    "# number of NaN in the column\n",
    "print(h1n1_nan_rows.sum())\n",
    "\n",
    "    # Replacement of the NaN values\n",
    "result_df = tools.mean_feature_clustered_numeric(result_df.copy(), 'h1n1_concern', ['age_group','race','sex','hhs_geo_region','census_msa'])\n",
    "# See, there's no more NaN values\n",
    "print(result_df.h1n1_concern.isna().sum())"
   ]
  },
  {
   "cell_type": "code",
   "execution_count": 15,
   "metadata": {},
   "outputs": [],
   "source": [
    "    # Standardization\n",
    "result_df.h1n1_concern = result_df.h1n1_concern / result_df.h1n1_concern.max()\n",
    "# now the values of h1n1_concern are between 0 and 1"
   ]
  },
  {
   "cell_type": "markdown",
   "metadata": {},
   "source": [
    "## h1n1_knowledge"
   ]
  },
  {
   "cell_type": "raw",
   "metadata": {},
   "source": [
    "Level of knowledge about H1N1 flu.\n",
    "0 = No knowledge; 1 = A little knowledge; 2 = A lot of knowledge."
   ]
  },
  {
   "cell_type": "code",
   "execution_count": 16,
   "metadata": {},
   "outputs": [],
   "source": [
    "result_df = tools.mean_feature_clustered_numeric(result_df.copy(), 'h1n1_knowledge', ['age_group','race','sex','hhs_geo_region','census_msa'])\n",
    "result_df.h1n1_knowledge = result_df.h1n1_knowledge / result_df.h1n1_knowledge.max()"
   ]
  },
  {
   "cell_type": "markdown",
   "metadata": {},
   "source": [
    "## behavioral_antiviral_meds "
   ]
  },
  {
   "cell_type": "raw",
   "metadata": {},
   "source": [
    "Has taken antiviral medications. (binary)"
   ]
  },
  {
   "cell_type": "code",
   "execution_count": 18,
   "metadata": {},
   "outputs": [],
   "source": [
    "result_df = tools.mean_feature_clustered_numeric(result_df.copy(), 'behavioral_antiviral_meds', ['age_group','race','sex','hhs_geo_region','census_msa'])\n",
    "# no standardization as the variable is already contained between 0 and 1 (binary)"
   ]
  },
  {
   "cell_type": "markdown",
   "metadata": {},
   "source": [
    "## behavioral_avoidance"
   ]
  },
  {
   "cell_type": "raw",
   "metadata": {},
   "source": [
    "Has avoided close contact with others with flu-like symptoms. (binary)"
   ]
  },
  {
   "cell_type": "code",
   "execution_count": 19,
   "metadata": {},
   "outputs": [],
   "source": [
    "result_df = tools.mean_feature_clustered_numeric(result_df.copy(), 'behavioral_avoidance', ['age_group','race','sex','hhs_geo_region','census_msa'])\n",
    "# no standardization as the variable is already contained between 0 and 1 (binary)"
   ]
  },
  {
   "cell_type": "markdown",
   "metadata": {},
   "source": [
    "## health_worker        "
   ]
  },
  {
   "cell_type": "raw",
   "metadata": {},
   "source": [
    "Is a healthcare worker. (binary)"
   ]
  },
  {
   "cell_type": "code",
   "execution_count": 20,
   "metadata": {},
   "outputs": [],
   "source": [
    "result_df = tools.mean_feature_clustered_numeric(result_df.copy(), 'health_worker', ['age_group','race','sex','hhs_geo_region','census_msa'])\n",
    "# no standardization as the variable is already contained between 0 and 1 (binary)"
   ]
  },
  {
   "cell_type": "markdown",
   "metadata": {},
   "source": [
    "## health_insurance"
   ]
  },
  {
   "cell_type": "raw",
   "metadata": {},
   "source": [
    "Has health insurance. (binary)"
   ]
  },
  {
   "cell_type": "code",
   "execution_count": 21,
   "metadata": {},
   "outputs": [],
   "source": [
    "result_df = tools.mean_feature_clustered_numeric(result_df.copy(), 'health_insurance', ['age_group','race','sex','hhs_geo_region','census_msa'])\n",
    "# no standardization as the variable is already contained between 0 and 1 (binary)"
   ]
  },
  {
   "cell_type": "markdown",
   "metadata": {},
   "source": [
    "## opinion_h1n1_vacc_effective"
   ]
  },
  {
   "cell_type": "raw",
   "metadata": {},
   "source": [
    "Respondent's opinion about H1N1 vaccine effectiveness.\n",
    "1 = Not at all effective; 2 = Not very effective; 3 = Don't know; 4 = Somewhat effective; 5 = Very effective."
   ]
  },
  {
   "cell_type": "code",
   "execution_count": 22,
   "metadata": {},
   "outputs": [],
   "source": [
    "result_df = tools.mean_feature_clustered_numeric(result_df.copy(), 'opinion_h1n1_vacc_effective', ['age_group','race','sex','hhs_geo_region','census_msa'])\n",
    "result_df.opinion_h1n1_vacc_effective = result_df.opinion_h1n1_vacc_effective / result_df.opinion_h1n1_vacc_effective.max()"
   ]
  },
  {
   "cell_type": "markdown",
   "metadata": {},
   "source": [
    "## opinion_h1n1_risk "
   ]
  },
  {
   "cell_type": "raw",
   "metadata": {},
   "source": [
    " Respondent's opinion about risk of getting sick with H1N1 flu without vaccine.\n",
    "1 = Very Low; 2 = Somewhat low; 3 = Don't know; 4 = Somewhat high; 5 = Very high."
   ]
  },
  {
   "cell_type": "code",
   "execution_count": 23,
   "metadata": {},
   "outputs": [],
   "source": [
    "result_df = tools.mean_feature_clustered_numeric(result_df.copy(), 'opinion_h1n1_risk', ['age_group','race','sex','hhs_geo_region','census_msa'])\n",
    "result_df.opinion_h1n1_risk  = result_df.opinion_h1n1_risk  / result_df.opinion_h1n1_risk.max()"
   ]
  },
  {
   "cell_type": "markdown",
   "metadata": {},
   "source": [
    "## opinion_h1n1_sick_from_vacc"
   ]
  },
  {
   "cell_type": "raw",
   "metadata": {},
   "source": [
    "Respondent's worry of getting sick from taking H1N1 vaccine.\n",
    "1 = Not at all worried; 2 = Not very worried; 3 = Don't know; 4 = Somewhat worried; 5 = Very worried."
   ]
  },
  {
   "cell_type": "code",
   "execution_count": 24,
   "metadata": {},
   "outputs": [],
   "source": [
    "result_df = tools.mean_feature_clustered_numeric(result_df.copy(), 'opinion_h1n1_sick_from_vacc', ['age_group','race','sex','hhs_geo_region','census_msa'])\n",
    "result_df.opinion_h1n1_sick_from_vacc  = result_df.opinion_h1n1_sick_from_vacc  / result_df.opinion_h1n1_sick_from_vacc.max()"
   ]
  },
  {
   "cell_type": "markdown",
   "metadata": {},
   "source": [
    "## opinion_seas_vacc_effective"
   ]
  },
  {
   "cell_type": "raw",
   "metadata": {},
   "source": [
    "Respondent's opinion about seasonal flu vaccine effectiveness.\n",
    "1 = Not at all effective; 2 = Not very effective; 3 = Don't know; 4 = Somewhat effective; 5 = Very effective."
   ]
  },
  {
   "cell_type": "code",
   "execution_count": 25,
   "metadata": {},
   "outputs": [],
   "source": [
    "result_df = tools.mean_feature_clustered_numeric(result_df.copy(), 'opinion_seas_vacc_effective', ['age_group','race','sex','hhs_geo_region','census_msa'])\n",
    "result_df.opinion_seas_vacc_effective  = result_df.opinion_seas_vacc_effective  / result_df.opinion_seas_vacc_effective.max()"
   ]
  },
  {
   "cell_type": "code",
   "execution_count": null,
   "metadata": {},
   "outputs": [],
   "source": [
    "age_group                       object\n",
    "education                       object\n",
    "race                            object\n",
    "sex                             object\n",
    "\n",
    "employment_status               object\n",
    "hhs_geo_region                  object\n",
    "census_msa                      object\n",
    "household_adults               float64\n",
    "household_children             float64\n",
    "employment_industry             object\n",
    "employment_occupation           object"
   ]
  }
 ],
 "metadata": {
  "kernelspec": {
   "display_name": "Python 3",
   "language": "python",
   "name": "python3"
  },
  "language_info": {
   "codemirror_mode": {
    "name": "ipython",
    "version": 3
   },
   "file_extension": ".py",
   "mimetype": "text/x-python",
   "name": "python",
   "nbconvert_exporter": "python",
   "pygments_lexer": "ipython3",
   "version": "3.7.11"
  }
 },
 "nbformat": 4,
 "nbformat_minor": 1
}
